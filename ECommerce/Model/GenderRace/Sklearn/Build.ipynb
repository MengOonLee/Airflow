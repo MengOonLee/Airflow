{
  "cells": [
    {
      "cell_type": "markdown",
      "metadata": {
        "id": "view-in-github",
        "colab_type": "text"
      },
      "source": [
        "<a href=\"https://colab.research.google.com/github/MengOonLee/Airflow/blob/main/ECommerce/Model/GenderRace/Sklearn/Build.ipynb\" target=\"_parent\"><img src=\"https://colab.research.google.com/assets/colab-badge.svg\" alt=\"Open In Colab\"/></a>"
      ]
    },
    {
      "cell_type": "code",
      "execution_count": null,
      "id": "74ba7e2d-d5be-45fa-8108-41eda30fea79",
      "metadata": {
        "id": "74ba7e2d-d5be-45fa-8108-41eda30fea79"
      },
      "outputs": [],
      "source": [
        "import logging\n",
        "from csv import DictReader\n",
        "from codecs import iterdecode\n",
        "from typing import List, Dict, Iterable\n",
        "import apache_beam as beam\n",
        "from apache_beam.pvalue import PBegin\n",
        "from apache_beam.io.filesystems import FileSystems as beam_fs\n",
        "from apache_beam.transforms.core import RestrictionProvider\n",
        "from apache_beam.io.restriction_trackers import OffsetRange, OffsetRestrictionTracker\n",
        "\n",
        "@beam.ptransform_fn\n",
        "@beam.typehints.with_input_types(PBegin)\n",
        "@beam.typehints.with_output_types(Dict[str, str])\n",
        "def ReadCsvFiles(pbegin: PBegin, file_patterns: List[str]\n",
        "    ) -> beam.PCollection[Dict[str, str]]:\n",
        "    \n",
        "    return (pbegin\n",
        "        | beam.Create(file_patterns)\n",
        "        | beam.ParDo(ExpandPattern())\n",
        "        | beam.ParDo(ReadCsvLines())\n",
        "        | beam.Reshuffle()\n",
        "    )\n",
        "\n",
        "class ExpandPattern(beam.DoFn):\n",
        "    def process(self, pattern: str) -> Iterable[str]:\n",
        "        try:\n",
        "            for match_result in beam_fs.match([pattern])[0].metadata_list:\n",
        "                yield match_result.path\n",
        "        except Exception:\n",
        "            logging.exception(pattern)\n",
        "            \n",
        "class CsvLinesTracker(RestrictionProvider):\n",
        "    def initial_restriction(self, file_name):\n",
        "        with beam_fs.open(file_name) as file:\n",
        "            num_row = len(file.readlines())\n",
        "        return OffsetRange(0, num_row)\n",
        "    \n",
        "    def create_tracker(self, restriction):\n",
        "        return OffsetRestrictionTracker(restriction)\n",
        "    \n",
        "    def restriction_size(self, file_name, restriction):\n",
        "        return restriction.size()\n",
        "    \n",
        "class ReadCsvLines(beam.DoFn):\n",
        "    def process(self, file_name: str, \n",
        "        tracker=beam.DoFn.RestrictionParam(CsvLinesTracker())\n",
        "        ) -> Iterable[Dict[str, str]]:\n",
        "        try:\n",
        "            with beam_fs.open(file_name) as file:\n",
        "                file.seek(tracker.current_restriction().start)\n",
        "                dict_reader = DictReader(iterdecode(file, 'utf-8'))\n",
        "                while tracker.try_claim(file.tell()):\n",
        "                    for row in dict_reader:\n",
        "                        yield dict(row)\n",
        "        except Exception:\n",
        "            logging.exception(file_name)"
      ]
    },
    {
      "cell_type": "code",
      "execution_count": 1,
      "id": "fb491b24-ab51-4bd0-85ce-8642d44a1116",
      "metadata": {
        "id": "fb491b24-ab51-4bd0-85ce-8642d44a1116",
        "outputId": "d72a59cd-07d2-4ea7-f683-d047bfde8601",
        "colab": {
          "base_uri": "https://localhost:8080/"
        }
      },
      "outputs": [
        {
          "output_type": "stream",
          "name": "stdout",
          "text": [
            "tensorflow 2.8.0+zzzcolab20220506162203 requires tf-estimator-nightly, which is not installed.\n",
            "multiprocess 0.70.12.2 has requirement dill>=0.3.4, but you have dill 0.3.1.1.\n",
            "jupyter-console 5.2.0 has requirement prompt-toolkit<2.0.0,>=1.0.0, but you have prompt-toolkit 3.0.29.\n",
            "gym 0.17.3 has requirement cloudpickle<1.7.0,>=1.2.0, but you have cloudpickle 2.1.0.\n",
            "google-colab 1.0.0 has requirement ipykernel~=4.10, but you have ipykernel 5.5.6.\n",
            "google-colab 1.0.0 has requirement ipython~=5.5.0, but you have ipython 7.33.0.\n",
            "google-colab 1.0.0 has requirement requests~=2.23.0, but you have requests 2.27.1.\n",
            "datascience 0.10.6 has requirement folium==0.2.1, but you have folium 0.8.3.\n",
            "albumentations 0.1.12 has requirement imgaug<0.2.7,>=0.2.5, but you have imgaug 0.2.9.\n"
          ]
        },
        {
          "output_type": "stream",
          "name": "stderr",
          "text": [
            "ERROR: pip's dependency resolver does not currently take into account all the packages that are installed. This behaviour is the source of the following dependency conflicts.\n",
            "tensorflow 2.8.0+zzzcolab20220506162203 requires tf-estimator-nightly==2.8.0.dev2021122109, which is not installed.\n",
            "multiprocess 0.70.12.2 requires dill>=0.3.4, but you have dill 0.3.1.1 which is incompatible.\n",
            "jupyter-console 5.2.0 requires prompt-toolkit<2.0.0,>=1.0.0, but you have prompt-toolkit 3.0.29 which is incompatible.\n",
            "gym 0.17.3 requires cloudpickle<1.7.0,>=1.2.0, but you have cloudpickle 2.1.0 which is incompatible.\n",
            "google-colab 1.0.0 requires ipykernel~=4.10, but you have ipykernel 5.5.6 which is incompatible.\n",
            "google-colab 1.0.0 requires ipython~=5.5.0, but you have ipython 7.33.0 which is incompatible.\n",
            "google-colab 1.0.0 requires requests~=2.23.0, but you have requests 2.27.1 which is incompatible.\n",
            "datascience 0.10.6 requires folium==0.2.1, but you have folium 0.8.3 which is incompatible.\n"
          ]
        }
      ],
      "source": [
        "%%bash\n",
        "pip install -qU apache-beam[gcp,interactive]==2.38.0\n",
        "pip check"
      ]
    },
    {
      "cell_type": "code",
      "execution_count": null,
      "id": "df9c44c5-08a1-4cd0-bb21-ff3151f28131",
      "metadata": {
        "id": "df9c44c5-08a1-4cd0-bb21-ff3151f28131"
      },
      "outputs": [],
      "source": [
        "import warnings\n",
        "warnings.filterwarnings('ignore')\n",
        "\n",
        "%matplotlib inline\n",
        "%config InlineBacked.figure_format = 'retina'\n",
        "import matplotlib.pyplot as plt\n",
        "\n",
        "import seaborn as sns\n",
        "sns.set_style('whitegrid')\n",
        "sns.set(font='DejaVu Sans')\n",
        "\n",
        "import pandas as pd\n",
        "import numpy as np"
      ]
    },
    {
      "cell_type": "code",
      "execution_count": null,
      "id": "deb9f6ac-98ef-4201-8921-d3e6142a072d",
      "metadata": {
        "id": "deb9f6ac-98ef-4201-8921-d3e6142a072d"
      },
      "outputs": [],
      "source": [
        "import logging\n",
        "import numpy as np\n",
        "from typing import Dict, List, Iterable, Any\n",
        "import apache_beam as beam\n",
        "\n",
        "@beam.ptransform_fn\n",
        "@beam.typehints.with_input_types(Dict[str, str])\n",
        "@beam.typehints.with_output_types(Dict[str, Any])\n",
        "def CleanLabels(\n",
        "    pcoll: beam.PCollection[Dict[str, str]],\n",
        "    label_col: str=None,\n",
        "    orig_values: List[Any]=None,\n",
        "    new_values: List[Any]=None\n",
        "    ) -> beam.PCollection[Dict[str, str]]:\n",
        "    \n",
        "    return (pcoll\n",
        "        | beam.ParDo(StandardizeValue(col=label_col, \n",
        "            orig_values=orig_values, new_values=new_values))\n",
        "        | beam.Reshuffle()\n",
        "    )\n",
        "\n",
        "class StandardizeValue(beam.DoFn):\n",
        "    def __init__(self, col, orig_values, new_values, **kwargs):\n",
        "        super().__init__(**kwargs)\n",
        "        self.col = col\n",
        "        self.orig_values = orig_values\n",
        "        self.new_values = new_values\n",
        "        \n",
        "    def process(self, element: Dict[str, str]\n",
        "        ) -> Iterable[Dict[str, str]]:\n",
        "        \n",
        "        try:\n",
        "            if self.col is not None:\n",
        "                for orig, new in zip(self.orig_values, self.new_values):\n",
        "                    value = np.where(element[self.col]==orig, \n",
        "                        new, element[self.col])\n",
        "                    element[self.col] = value.item()\n",
        "                yield element\n",
        "        except Exception:\n",
        "            logging.exception(element)"
      ]
    },
    {
      "cell_type": "code",
      "execution_count": null,
      "id": "d0b27e4e-3d4f-437d-bbd0-b7b5bc8e40db",
      "metadata": {
        "id": "d0b27e4e-3d4f-437d-bbd0-b7b5bc8e40db"
      },
      "outputs": [],
      "source": [
        "def split_dataset(elem, num_partitions, ratio):\n",
        "    assert num_partitions == len(ratio)\n",
        "    bucket = sum(map(ord, str(elem))) % sum(ratio)\n",
        "    total = 0\n",
        "    for i, part in enumerate(ratio):\n",
        "        total += part\n",
        "        if bucket < total:\n",
        "            return i\n",
        "    return len(ratio) - 1"
      ]
    },
    {
      "cell_type": "code",
      "execution_count": null,
      "id": "ee7d724e-c678-4eed-850e-3c53534d3773",
      "metadata": {
        "scrolled": true,
        "tags": [],
        "id": "ee7d724e-c678-4eed-850e-3c53534d3773",
        "outputId": "ada056db-2461-4764-9c77-b93b5d59c6a3"
      },
      "outputs": [
        {
          "data": {
            "application/javascript": [
              "\n",
              "        if (typeof window.interactive_beam_jquery == 'undefined') {\n",
              "          var jqueryScript = document.createElement('script');\n",
              "          jqueryScript.src = 'https://code.jquery.com/jquery-3.4.1.slim.min.js';\n",
              "          jqueryScript.type = 'text/javascript';\n",
              "          jqueryScript.onload = function() {\n",
              "            var datatableScript = document.createElement('script');\n",
              "            datatableScript.src = 'https://cdn.datatables.net/1.10.20/js/jquery.dataTables.min.js';\n",
              "            datatableScript.type = 'text/javascript';\n",
              "            datatableScript.onload = function() {\n",
              "              window.interactive_beam_jquery = jQuery.noConflict(true);\n",
              "              window.interactive_beam_jquery(document).ready(function($){\n",
              "                \n",
              "              });\n",
              "            }\n",
              "            document.head.appendChild(datatableScript);\n",
              "          };\n",
              "          document.head.appendChild(jqueryScript);\n",
              "        } else {\n",
              "          window.interactive_beam_jquery(document).ready(function($){\n",
              "            \n",
              "          });\n",
              "        }"
            ]
          },
          "metadata": {},
          "output_type": "display_data"
        },
        {
          "name": "stderr",
          "output_type": "stream",
          "text": [
            "WARNING:apache_beam.options.pipeline_options:Discarding unparseable args: ['-f', '/home/meng/.local/share/jupyter/runtime/kernel-1f0b0b5c-3b56-465c-b5f0-f42e8e6c3af8.json']\n",
            "WARNING:apache_beam.options.pipeline_options:Discarding unparseable args: ['-f', '/home/meng/.local/share/jupyter/runtime/kernel-1f0b0b5c-3b56-465c-b5f0-f42e8e6c3af8.json']\n",
            "WARNING:root:Make sure that locally built Python SDK docker image has Python 3.8 interpreter.\n",
            "INFO:root:Default Python SDK image for environment is apache/beam_python3.8_sdk:2.38.0\n",
            "INFO:apache_beam.runners.portability.fn_api_runner.translations:==================== <function annotate_downstream_side_inputs at 0x7fc7b41baaf0> ====================\n",
            "INFO:apache_beam.runners.portability.fn_api_runner.translations:==================== <function fix_side_input_pcoll_coders at 0x7fc7b41bac10> ====================\n",
            "INFO:apache_beam.runners.portability.fn_api_runner.translations:==================== <function pack_combiners at 0x7fc7b41bb160> ====================\n",
            "INFO:apache_beam.runners.portability.fn_api_runner.translations:==================== <function lift_combiners at 0x7fc7b41bb1f0> ====================\n",
            "INFO:apache_beam.runners.portability.fn_api_runner.translations:==================== <function expand_sdf at 0x7fc7b41bb3a0> ====================\n",
            "INFO:apache_beam.runners.portability.fn_api_runner.translations:==================== <function expand_gbk at 0x7fc7b41bb430> ====================\n",
            "INFO:apache_beam.runners.portability.fn_api_runner.translations:==================== <function sink_flattens at 0x7fc7b41bb550> ====================\n",
            "INFO:apache_beam.runners.portability.fn_api_runner.translations:==================== <function greedily_fuse at 0x7fc7b41bb5e0> ====================\n",
            "INFO:apache_beam.runners.portability.fn_api_runner.translations:==================== <function read_to_impulse at 0x7fc7b41bb670> ====================\n",
            "INFO:apache_beam.runners.portability.fn_api_runner.translations:==================== <function impulse_to_input at 0x7fc7b41bb700> ====================\n",
            "INFO:apache_beam.runners.portability.fn_api_runner.translations:==================== <function sort_stages at 0x7fc7b41bb940> ====================\n",
            "INFO:apache_beam.runners.portability.fn_api_runner.translations:==================== <function setup_timer_mapping at 0x7fc7b41bb8b0> ====================\n",
            "INFO:apache_beam.runners.portability.fn_api_runner.translations:==================== <function populate_data_channel_coders at 0x7fc7b41bb9d0> ====================\n",
            "INFO:apache_beam.runners.worker.statecache:Creating state cache with size 100\n",
            "INFO:apache_beam.runners.portability.fn_api_runner.worker_handlers:Created Worker handler <apache_beam.runners.portability.fn_api_runner.worker_handlers.EmbeddedWorkerHandler object at 0x7fc7b3914430> for environment ref_Environment_default_environment_1 (beam:env:embedded_python:v1, b'')\n",
            "INFO:apache_beam.runners.portability.fn_api_runner.fn_runner:Running ((((((ref_AppliedPTransform_-6-read-csv-Create-Impulse_4)+(ref_AppliedPTransform_-6-read-csv-Create-FlatMap-lambda-at-core-py-3229-_5))+(ref_AppliedPTransform_-6-read-csv-Create-Map-decode-_6))+(ref_AppliedPTransform_-6-read-csv-ParDo-ExpandPattern-_7))+([6]: read csv/ParDo(ReadCsvLines)/PairWithRestriction))+([6]: read csv/ParDo(ReadCsvLines)/SplitAndSizeRestriction))+(ref_PCollection_PCollection_4_split/Write)\n",
            "INFO:apache_beam.runners.portability.fn_api_runner.fn_runner:Running ((((ref_PCollection_PCollection_4_split/Read)+([6]: read csv/ParDo(ReadCsvLines)/Process))+(ref_AppliedPTransform_-6-read-csv-Reshuffle-AddRandomKeys_10))+(ref_AppliedPTransform_-6-read-csv-Reshuffle-ReshufflePerKey-Map-reify_timestamps-_12))+([6]: read csv/Reshuffle/ReshufflePerKey/GroupByKey/Write)\n",
            "INFO:apache_beam.runners.portability.fn_api_runner.fn_runner:Running (((((([6]: read csv/Reshuffle/ReshufflePerKey/GroupByKey/Read)+(ref_AppliedPTransform_-6-read-csv-Reshuffle-ReshufflePerKey-FlatMap-restore_timestamps-_14))+(ref_AppliedPTransform_-6-read-csv-Reshuffle-RemoveRandomKeys_15))+(ref_AppliedPTransform_-6-clean-gender-ParDo-StandardizeValue-_17))+(ref_AppliedPTransform_-6-clean-gender-Reshuffle-AddRandomKeys_19))+(ref_AppliedPTransform_-6-clean-gender-Reshuffle-ReshufflePerKey-Map-reify_timestamps-_21))+([6]: clean gender/Reshuffle/ReshufflePerKey/GroupByKey/Write)\n",
            "INFO:apache_beam.runners.portability.fn_api_runner.fn_runner:Running (((((([6]: clean gender/Reshuffle/ReshufflePerKey/GroupByKey/Read)+(ref_AppliedPTransform_-6-clean-gender-Reshuffle-ReshufflePerKey-FlatMap-restore_timestamps-_23))+(ref_AppliedPTransform_-6-clean-gender-Reshuffle-RemoveRandomKeys_24))+(ref_AppliedPTransform_-6-clean-race-ParDo-StandardizeValue-_26))+(ref_AppliedPTransform_-6-clean-race-Reshuffle-AddRandomKeys_28))+(ref_AppliedPTransform_-6-clean-race-Reshuffle-ReshufflePerKey-Map-reify_timestamps-_30))+([6]: clean race/Reshuffle/ReshufflePerKey/GroupByKey/Write)\n",
            "INFO:apache_beam.runners.portability.fn_api_runner.fn_runner:Running (((((ref_AppliedPTransform_-6-WriteCache_ae2e4cbdeb-140495697901072-140495697900880-140495703183760-Write_57)+(ref_AppliedPTransform_-6-WriteCache_ae2e4cbdeb-140495697901072-140495697900880-140495703183760-Write_58))+(ref_AppliedPTransform_-6-WriteCache_ae2e4cbdeb-140495697901072-140495697900880-140495703183760-Write_59))+(ref_AppliedPTransform_-6-WriteCache_ae2e4cbdeb-140495697901072-140495697900880-140495703183760-Write_60))+(ref_PCollection_PCollection_38/Write))+(ref_PCollection_PCollection_39/Write)\n",
            "INFO:apache_beam.runners.portability.fn_api_runner.fn_runner:Running (((((ref_AppliedPTransform_-6-WriteCache_4659e2fd04-140495697789760-140495697850960-140495703183760-Write_91)+(ref_AppliedPTransform_-6-WriteCache_4659e2fd04-140495697789760-140495697850960-140495703183760-Write_92))+(ref_AppliedPTransform_-6-WriteCache_4659e2fd04-140495697789760-140495697850960-140495703183760-Write_93))+(ref_AppliedPTransform_-6-WriteCache_4659e2fd04-140495697789760-140495697850960-140495703183760-Write_94))+(ref_PCollection_PCollection_62/Write))+(ref_PCollection_PCollection_63/Write)\n",
            "INFO:apache_beam.runners.portability.fn_api_runner.fn_runner:Running (((((ref_AppliedPTransform_-6-WriteCache_3d80b8ce66-140495697850768-140495697850960-140495703183760-Write_74)+(ref_AppliedPTransform_-6-WriteCache_3d80b8ce66-140495697850768-140495697850960-140495703183760-Write_75))+(ref_AppliedPTransform_-6-WriteCache_3d80b8ce66-140495697850768-140495697850960-140495703183760-Write_76))+(ref_AppliedPTransform_-6-WriteCache_3d80b8ce66-140495697850768-140495697850960-140495703183760-Write_77))+(ref_PCollection_PCollection_50/Write))+(ref_PCollection_PCollection_51/Write)\n",
            "INFO:apache_beam.runners.portability.fn_api_runner.fn_runner:Running ((((((((((((((((((((([6]: clean race/Reshuffle/ReshufflePerKey/GroupByKey/Read)+(ref_AppliedPTransform_-6-clean-race-Reshuffle-ReshufflePerKey-FlatMap-restore_timestamps-_32))+(ref_AppliedPTransform_-6-clean-race-Reshuffle-RemoveRandomKeys_33))+(ref_AppliedPTransform_-6-partition-ParDo-ApplyPartitionFnFn-ParDo-ApplyPartitionFnFn-_36))+(ref_AppliedPTransform_-6-ReifyBefore_WriteCache_ae2e4cbdeb-140495697901072-140495697900880-140495703_51))+(ref_AppliedPTransform_-6-ReifyBefore_WriteCache_4659e2fd04-140495697789760-140495697850960-140495703_85))+(ref_AppliedPTransform_-6-count-train-data-CombineGlobally-CountCombineFn-KeyWithVoid_39))+(ref_AppliedPTransform_-6-ReifyBefore_WriteCache_3d80b8ce66-140495697850768-140495697850960-140495703_68))+([6]: count train data/CombineGlobally(CountCombineFn)/CombinePerKey/Precombine))+([6]: count train data/CombineGlobally(CountCombineFn)/CombinePerKey/Group/Write))+(ref_AppliedPTransform_-6-WriteCache_ae2e4cbdeb-140495697901072-140495697900880-140495703183760-Write_61))+(ref_AppliedPTransform_-6-WriteCache_ae2e4cbdeb-140495697901072-140495697900880-140495703183760-Write_62))+(ref_AppliedPTransform_-6-WriteCache_ae2e4cbdeb-140495697901072-140495697900880-140495703183760-Write_63))+([6]: WriteCache_ae2e4cbdeb-140495697901072-140495697900880-140495703183760/Write/Write/WriteImpl/GroupByKey/Write))+(ref_AppliedPTransform_-6-WriteCache_3d80b8ce66-140495697850768-140495697850960-140495703183760-Write_78))+(ref_AppliedPTransform_-6-WriteCache_3d80b8ce66-140495697850768-140495697850960-140495703183760-Write_79))+(ref_AppliedPTransform_-6-WriteCache_3d80b8ce66-140495697850768-140495697850960-140495703183760-Write_80))+([6]: WriteCache_3d80b8ce66-140495697850768-140495697850960-140495703183760/Write/Write/WriteImpl/GroupByKey/Write))+(ref_AppliedPTransform_-6-WriteCache_4659e2fd04-140495697789760-140495697850960-140495703183760-Write_95))+(ref_AppliedPTransform_-6-WriteCache_4659e2fd04-140495697789760-140495697850960-140495703183760-Write_96))+(ref_AppliedPTransform_-6-WriteCache_4659e2fd04-140495697789760-140495697850960-140495703183760-Write_97))+([6]: WriteCache_4659e2fd04-140495697789760-140495697850960-140495703183760/Write/Write/WriteImpl/GroupByKey/Write)\n",
            "INFO:apache_beam.runners.portability.fn_api_runner.fn_runner:Running (([6]: WriteCache_ae2e4cbdeb-140495697901072-140495697900880-140495703183760/Write/Write/WriteImpl/GroupByKey/Read)+(ref_AppliedPTransform_-6-WriteCache_ae2e4cbdeb-140495697901072-140495697900880-140495703183760-Write_65))+(ref_PCollection_PCollection_44/Write)\n",
            "INFO:apache_beam.runners.portability.fn_api_runner.fn_runner:Running ((ref_PCollection_PCollection_38/Read)+(ref_AppliedPTransform_-6-WriteCache_ae2e4cbdeb-140495697901072-140495697900880-140495703183760-Write_66))+(ref_PCollection_PCollection_45/Write)\n",
            "INFO:apache_beam.runners.portability.fn_api_runner.fn_runner:Running (([6]: WriteCache_4659e2fd04-140495697789760-140495697850960-140495703183760/Write/Write/WriteImpl/GroupByKey/Read)+(ref_AppliedPTransform_-6-WriteCache_4659e2fd04-140495697789760-140495697850960-140495703183760-Write_99))+(ref_PCollection_PCollection_68/Write)\n",
            "INFO:apache_beam.runners.portability.fn_api_runner.fn_runner:Running (([6]: WriteCache_3d80b8ce66-140495697850768-140495697850960-140495703183760/Write/Write/WriteImpl/GroupByKey/Read)+(ref_AppliedPTransform_-6-WriteCache_3d80b8ce66-140495697850768-140495697850960-140495703183760-Write_82))+(ref_PCollection_PCollection_56/Write)\n",
            "INFO:apache_beam.runners.portability.fn_api_runner.fn_runner:Running ((ref_PCollection_PCollection_50/Read)+(ref_AppliedPTransform_-6-WriteCache_3d80b8ce66-140495697850768-140495697850960-140495703183760-Write_83))+(ref_PCollection_PCollection_57/Write)\n",
            "INFO:apache_beam.runners.portability.fn_api_runner.fn_runner:Running (ref_PCollection_PCollection_50/Read)+(ref_AppliedPTransform_-6-WriteCache_3d80b8ce66-140495697850768-140495697850960-140495703183760-Write_84)\n",
            "INFO:apache_beam.io.filebasedsink:Starting finalize_write threads with num_shards: 1 (skipped: 0), batches: 1, num_threads: 1\n",
            "INFO:apache_beam.io.filebasedsink:Renamed 1 shards in 0.00 seconds.\n",
            "INFO:apache_beam.runners.portability.fn_api_runner.fn_runner:Running (((([6]: count train data/CombineGlobally(CountCombineFn)/CombinePerKey/Group/Read)+([6]: count train data/CombineGlobally(CountCombineFn)/CombinePerKey/Merge))+([6]: count train data/CombineGlobally(CountCombineFn)/CombinePerKey/ExtractOutputs))+(ref_AppliedPTransform_-6-count-train-data-CombineGlobally-CountCombineFn-UnKey_44))+(ref_PCollection_PCollection_29/Write)\n",
            "INFO:apache_beam.runners.portability.fn_api_runner.fn_runner:Running ((((ref_AppliedPTransform_-6-count-train-data-CombineGlobally-CountCombineFn-DoOnce-Impulse_46)+(ref_AppliedPTransform_-6-count-train-data-CombineGlobally-CountCombineFn-DoOnce-FlatMap-lambda-at-co_47))+(ref_AppliedPTransform_-6-count-train-data-CombineGlobally-CountCombineFn-DoOnce-Map-decode-_48))+(ref_AppliedPTransform_-6-count-train-data-CombineGlobally-CountCombineFn-InjectDefault_49))+(ref_AppliedPTransform_-6-print-number-train-data_50)\n",
            "INFO:apache_beam.runners.portability.fn_api_runner.fn_runner:Running ((ref_PCollection_PCollection_62/Read)+(ref_AppliedPTransform_-6-WriteCache_4659e2fd04-140495697789760-140495697850960-140495703183760-Write_100))+(ref_PCollection_PCollection_69/Write)\n",
            "INFO:apache_beam.runners.portability.fn_api_runner.fn_runner:Running (ref_PCollection_PCollection_38/Read)+(ref_AppliedPTransform_-6-WriteCache_ae2e4cbdeb-140495697901072-140495697900880-140495703183760-Write_67)\n",
            "INFO:apache_beam.io.filebasedsink:Starting finalize_write threads with num_shards: 1 (skipped: 0), batches: 1, num_threads: 1\n",
            "INFO:apache_beam.io.filebasedsink:Renamed 1 shards in 0.00 seconds.\n",
            "INFO:apache_beam.runners.portability.fn_api_runner.fn_runner:Running (ref_PCollection_PCollection_62/Read)+(ref_AppliedPTransform_-6-WriteCache_4659e2fd04-140495697789760-140495697850960-140495703183760-Write_101)\n",
            "INFO:apache_beam.io.filebasedsink:Starting finalize_write threads with num_shards: 1 (skipped: 0), batches: 1, num_threads: 1\n",
            "INFO:apache_beam.io.filebasedsink:Renamed 1 shards in 0.00 seconds.\n"
          ]
        },
        {
          "name": "stdout",
          "output_type": "stream",
          "text": [
            "# train data: 20526\n"
          ]
        }
      ],
      "source": [
        "import logging\n",
        "logging.getLogger().setLevel(logging.INFO)\n",
        "import os\n",
        "os.environ['GOOGLE_APPLICATION_CREDENTIALS'] = \\\n",
        "    '/home/meng/work/.GCP_SA/mlee-claritas-bigdata-poc.json'\n",
        "import apache_beam as beam\n",
        "from apache_beam.options.pipeline_options import PipelineOptions, GoogleCloudOptions, \\\n",
        "    WorkerOptions, StandardOptions\n",
        "\n",
        "options = PipelineOptions()\n",
        "options.view_as(GoogleCloudOptions).project = 'claritas-bigdata-poc'\n",
        "options.view_as(GoogleCloudOptions).region = 'asia-southeast1'\n",
        "options.view_as(GoogleCloudOptions).temp_location = 'gs://claritas-bigdata-poc/temp'\n",
        "options.view_as(WorkerOptions).use_public_ips = False\n",
        "options.view_as(WorkerOptions).subnetwork = 'https://www.googleapis.com/compute/v1/projects/claritas-sharedvpc/regions/asia-southeast1/subnetworks/claritas-cloudai-dev-app-sg'\n",
        "options.view_as(StandardOptions).runner = 'InteractiveRunner'\n",
        "\n",
        "class CustomOptions(PipelineOptions):\n",
        "    @classmethod\n",
        "    def _add_argparse_args(cls, parser):\n",
        "        parser.add_argument('--input_csv')\n",
        "        \n",
        "args = options.view_as(CustomOptions)\n",
        "args.input_csv = [\"./Data/Ogawa_Ecommerce.csv\"]\n",
        "\n",
        "pipeline = beam.Pipeline(options=options)\n",
        "\n",
        "raw_pc = (pipeline\n",
        "    | \"read csv\" >> ReadCsvFiles(args.input_csv)\n",
        "    | \"clean gender\" >> CleanLabels(label_col='gender',\n",
        "        orig_values=['Other'], new_values=['Others'])\n",
        "    | \"clean race\" >> CleanLabels(label_col='race',\n",
        "        orig_values=['Other'], new_values=['Others'])\n",
        ")\n",
        "\n",
        "train_pc, test_pc = (raw_pc\n",
        "    | \"partition\" >> beam.Partition(split_dataset, 2, [9, 1]))\n",
        "\n",
        "(train_pc | \"count train data\" >> beam.combiners.Count.Globally()\n",
        "    | \"print number train data\" >> beam.Map(lambda x: print(f\"# train data: {x}\")))\n",
        "\n",
        "pipeline.run().wait_until_finish()"
      ]
    },
    {
      "cell_type": "code",
      "execution_count": null,
      "id": "9c31a676-1752-40da-b581-671a3814258b",
      "metadata": {
        "id": "9c31a676-1752-40da-b581-671a3814258b",
        "outputId": "9d4ce659-da73-442a-acdb-cc96d2def686"
      },
      "outputs": [
        {
          "data": {
            "text/html": [
              "\n",
              "            <link rel=\"stylesheet\" href=\"https://stackpath.bootstrapcdn.com/bootstrap/4.4.1/css/bootstrap.min.css\" integrity=\"sha384-Vkoo8x4CGsO3+Hhxv8T/Q5PaXtkKtu6ug5TOeNV6gBiFeWPGFN9MuhOf23Q9Ifjh\" crossorigin=\"anonymous\">\n",
              "            <div id=\"progress_indicator_9eb0d41fd68966f7527ac16b29282c3d\" class=\"spinner-border text-info\" role=\"status\">\n",
              "            </div>"
            ],
            "text/plain": [
              "<IPython.core.display.HTML object>"
            ]
          },
          "metadata": {},
          "output_type": "display_data"
        },
        {
          "data": {
            "application/javascript": [
              "\n",
              "        if (typeof window.interactive_beam_jquery == 'undefined') {\n",
              "          var jqueryScript = document.createElement('script');\n",
              "          jqueryScript.src = 'https://code.jquery.com/jquery-3.4.1.slim.min.js';\n",
              "          jqueryScript.type = 'text/javascript';\n",
              "          jqueryScript.onload = function() {\n",
              "            var datatableScript = document.createElement('script');\n",
              "            datatableScript.src = 'https://cdn.datatables.net/1.10.20/js/jquery.dataTables.min.js';\n",
              "            datatableScript.type = 'text/javascript';\n",
              "            datatableScript.onload = function() {\n",
              "              window.interactive_beam_jquery = jQuery.noConflict(true);\n",
              "              window.interactive_beam_jquery(document).ready(function($){\n",
              "                \n",
              "            $(\"#progress_indicator_9eb0d41fd68966f7527ac16b29282c3d\").remove();\n",
              "              });\n",
              "            }\n",
              "            document.head.appendChild(datatableScript);\n",
              "          };\n",
              "          document.head.appendChild(jqueryScript);\n",
              "        } else {\n",
              "          window.interactive_beam_jquery(document).ready(function($){\n",
              "            \n",
              "            $(\"#progress_indicator_9eb0d41fd68966f7527ac16b29282c3d\").remove();\n",
              "          });\n",
              "        }"
            ]
          },
          "metadata": {},
          "output_type": "display_data"
        },
        {
          "name": "stdout",
          "output_type": "stream",
          "text": [
            "Train data:\n",
            "<class 'pandas.core.frame.DataFrame'>\n",
            "RangeIndex: 20526 entries, 0 to 20525\n",
            "Data columns (total 3 columns):\n",
            " #   Column         Non-Null Count  Dtype \n",
            "---  ------         --------------  ----- \n",
            " 0   customer_name  20526 non-null  object\n",
            " 1   race           20526 non-null  object\n",
            " 2   gender         20526 non-null  object\n",
            "dtypes: object(3)\n",
            "memory usage: 481.2+ KB\n"
          ]
        },
        {
          "data": {
            "text/html": [
              "\n",
              "            <link rel=\"stylesheet\" href=\"https://stackpath.bootstrapcdn.com/bootstrap/4.4.1/css/bootstrap.min.css\" integrity=\"sha384-Vkoo8x4CGsO3+Hhxv8T/Q5PaXtkKtu6ug5TOeNV6gBiFeWPGFN9MuhOf23Q9Ifjh\" crossorigin=\"anonymous\">\n",
              "            <div id=\"progress_indicator_0ff1f3a63e76be44eb5d85352e631f77\" class=\"spinner-border text-info\" role=\"status\">\n",
              "            </div>"
            ],
            "text/plain": [
              "<IPython.core.display.HTML object>"
            ]
          },
          "metadata": {},
          "output_type": "display_data"
        },
        {
          "data": {
            "application/javascript": [
              "\n",
              "        if (typeof window.interactive_beam_jquery == 'undefined') {\n",
              "          var jqueryScript = document.createElement('script');\n",
              "          jqueryScript.src = 'https://code.jquery.com/jquery-3.4.1.slim.min.js';\n",
              "          jqueryScript.type = 'text/javascript';\n",
              "          jqueryScript.onload = function() {\n",
              "            var datatableScript = document.createElement('script');\n",
              "            datatableScript.src = 'https://cdn.datatables.net/1.10.20/js/jquery.dataTables.min.js';\n",
              "            datatableScript.type = 'text/javascript';\n",
              "            datatableScript.onload = function() {\n",
              "              window.interactive_beam_jquery = jQuery.noConflict(true);\n",
              "              window.interactive_beam_jquery(document).ready(function($){\n",
              "                \n",
              "            $(\"#progress_indicator_0ff1f3a63e76be44eb5d85352e631f77\").remove();\n",
              "              });\n",
              "            }\n",
              "            document.head.appendChild(datatableScript);\n",
              "          };\n",
              "          document.head.appendChild(jqueryScript);\n",
              "        } else {\n",
              "          window.interactive_beam_jquery(document).ready(function($){\n",
              "            \n",
              "            $(\"#progress_indicator_0ff1f3a63e76be44eb5d85352e631f77\").remove();\n",
              "          });\n",
              "        }"
            ]
          },
          "metadata": {},
          "output_type": "display_data"
        },
        {
          "name": "stdout",
          "output_type": "stream",
          "text": [
            "Test data:\n",
            "<class 'pandas.core.frame.DataFrame'>\n",
            "RangeIndex: 2311 entries, 0 to 2310\n",
            "Data columns (total 3 columns):\n",
            " #   Column         Non-Null Count  Dtype \n",
            "---  ------         --------------  ----- \n",
            " 0   customer_name  2311 non-null   object\n",
            " 1   race           2311 non-null   object\n",
            " 2   gender         2311 non-null   object\n",
            "dtypes: object(3)\n",
            "memory usage: 54.3+ KB\n"
          ]
        }
      ],
      "source": [
        "import apache_beam.runners.interactive.interactive_beam as ib\n",
        "\n",
        "train_df = ib.collect(train_pc)\n",
        "print(\"Train data:\")\n",
        "train_df.info()\n",
        "\n",
        "test_df = ib.collect(test_pc)\n",
        "print(\"Test data:\")\n",
        "test_df.info()"
      ]
    },
    {
      "cell_type": "code",
      "execution_count": null,
      "id": "fe5cc98e-305d-4b08-bf70-ccbd5b2bebf7",
      "metadata": {
        "id": "fe5cc98e-305d-4b08-bf70-ccbd5b2bebf7"
      },
      "outputs": [],
      "source": [
        "def bar_plot(dataframe, col):\n",
        "    plt_dataframe = dataframe[col].value_counts(normalize=True).mul(100)\\\n",
        "        .rename('%').rename_axis(col).reset_index()\n",
        "    sns.barplot(data=plt_dataframe, x=col, y='%')\n",
        "    plt.title(col + \" %\")\n",
        "    plt.show()"
      ]
    },
    {
      "cell_type": "code",
      "execution_count": null,
      "id": "98268b15-35f2-4156-b086-c207e28adf9c",
      "metadata": {
        "id": "98268b15-35f2-4156-b086-c207e28adf9c",
        "outputId": "5bf69c59-84da-4669-cebc-49f21c6e8029"
      },
      "outputs": [
        {
          "name": "stdout",
          "output_type": "stream",
          "text": [
            "Train data:\n"
          ]
        },
        {
          "data": {
            "image/png": "[encoded data removed]",
            "text/plain": [
              "<Figure size 432x288 with 1 Axes>"
            ]
          },
          "metadata": {},
          "output_type": "display_data"
        },
        {
          "name": "stdout",
          "output_type": "stream",
          "text": [
            "Test data:\n"
          ]
        },
        {
          "data": {
            "image/png": "[encoded data removed]",
            "text/plain": [
              "<Figure size 432x288 with 1 Axes>"
            ]
          },
          "metadata": {},
          "output_type": "display_data"
        }
      ],
      "source": [
        "print(\"Train data:\")\n",
        "bar_plot(train_df, 'gender')\n",
        "\n",
        "print(\"Test data:\")\n",
        "bar_plot(test_df, 'gender')"
      ]
    },
    {
      "cell_type": "code",
      "execution_count": null,
      "id": "a05954c7-e881-4599-8f20-29639d5bd7c5",
      "metadata": {
        "id": "a05954c7-e881-4599-8f20-29639d5bd7c5",
        "outputId": "ae1467b9-9f9d-42de-ee3a-5cd72f6c144f"
      },
      "outputs": [
        {
          "name": "stdout",
          "output_type": "stream",
          "text": [
            "Train data:\n"
          ]
        },
        {
          "data": {
            "image/png": "[encoded data removed]",
            "text/plain": [
              "<Figure size 432x288 with 1 Axes>"
            ]
          },
          "metadata": {},
          "output_type": "display_data"
        },
        {
          "name": "stdout",
          "output_type": "stream",
          "text": [
            "Test data:\n"
          ]
        },
        {
          "data": {
            "image/png": "[encoded data removed]",
            "text/plain": [
              "<Figure size 432x288 with 1 Axes>"
            ]
          },
          "metadata": {},
          "output_type": "display_data"
        }
      ],
      "source": [
        "print(\"Train data:\")\n",
        "bar_plot(train_df, 'race')\n",
        "\n",
        "print(\"Test data:\")\n",
        "bar_plot(test_df, 'race')"
      ]
    },
    {
      "cell_type": "code",
      "execution_count": null,
      "id": "7907276b-b878-4cc4-a912-58b34c134d2f",
      "metadata": {
        "id": "7907276b-b878-4cc4-a912-58b34c134d2f"
      },
      "outputs": [],
      "source": [
        "import pandas as pd\n",
        "from scipy.stats import uniform\n",
        "from sklearn.pipeline import make_pipeline\n",
        "from sklearn.feature_extraction.text import CountVectorizer\n",
        "from sklearn.compose import ColumnTransformer\n",
        "from sklearn.naive_bayes import MultinomialNB\n",
        "from sklearn.model_selection import StratifiedKFold\n",
        "from sklearn.metrics import make_scorer, accuracy_score, balanced_accuracy_score\n",
        "from sklearn.model_selection import RandomizedSearchCV\n",
        "\n",
        "def train(dataframe, target_name):\n",
        "    data, label = dataframe.drop(columns=[target_name]), dataframe[target_name]\n",
        "    \n",
        "    preprocessor = ColumnTransformer([\n",
        "        ('count_vectorizer', CountVectorizer(), 'customer_name')\n",
        "        ], remainder='drop', n_jobs=-1)\n",
        "    pipeline = make_pipeline(preprocessor, MultinomialNB())\n",
        "\n",
        "    param_distributions = {\n",
        "        'multinomialnb__alpha': uniform()}\n",
        "    cv = StratifiedKFold(n_splits=10, shuffle=True, random_state=42)\n",
        "    scoring = {'accuracy': make_scorer(accuracy_score),\n",
        "        'balanced_accuracy': make_scorer(balanced_accuracy_score)}\n",
        "    model = RandomizedSearchCV(estimator=pipeline, \n",
        "        param_distributions=param_distributions, n_iter=100,\n",
        "        cv=cv, n_jobs=-1, scoring=scoring, refit='accuracy',\n",
        "        return_train_score=True)\n",
        "    model.fit(data, label)\n",
        "    \n",
        "    cv_results_df = pd.DataFrame(model.cv_results_)\n",
        "    col_results = [f\"param_{name}\" for name in param_distributions.keys()]\n",
        "    col_results += [f\"mean_train_{name}\" for name in scoring.keys()]\n",
        "    col_results += [f\"std_train_{name}\" for name in scoring.keys()]\n",
        "    col_results += [f\"mean_test_{name}\" for name in scoring.keys()]\n",
        "    col_results += [f\"std_test_{name}\" for name in scoring.keys()]\n",
        "    cv_results_df = cv_results_df[col_results]\\\n",
        "        .sort_values('mean_test_accuracy', ascending=False)\n",
        "    cv_results_df.reset_index(inplace=True)\n",
        "\n",
        "    print(\"Model best params:\", model.best_params_)\n",
        "    print(f\"Train accuracy: {cv_results_df['mean_train_accuracy'][0]:.4f}\"\n",
        "        f\"+/- {cv_results_df['std_train_accuracy'][0]:.4f}\")\n",
        "    print(f\"Valid accuracy: {cv_results_df['mean_test_accuracy'][0]:.4f}\"\n",
        "        f\"+/- {cv_results_df['std_test_accuracy'][0]:.4f}\")\n",
        "    \n",
        "    train_metrics = cv_results_df[[f\"mean_train_{name}\" \n",
        "        for name in scoring.keys()]]\n",
        "    sns.boxplot(data=train_metrics, orient='h')\n",
        "    plt.xlabel('score')\n",
        "    plt.title('Train scores')\n",
        "    plt.show()\n",
        "    \n",
        "    valid_metrics = cv_results_df[[f\"mean_test_{name}\" \n",
        "        for name in scoring.keys()]]\n",
        "    sns.boxplot(data=valid_metrics, orient='h')\n",
        "    plt.xlabel('score')\n",
        "    plt.title('Valid scores')\n",
        "    plt.show()\n",
        "    \n",
        "    return model, cv_results_df"
      ]
    },
    {
      "cell_type": "code",
      "execution_count": null,
      "id": "a0e9e126-98b7-4236-bf11-5f7c88fb3c00",
      "metadata": {
        "id": "a0e9e126-98b7-4236-bf11-5f7c88fb3c00",
        "outputId": "8cba0af1-fe04-4730-fb8a-fea6c4f8442e"
      },
      "outputs": [
        {
          "name": "stdout",
          "output_type": "stream",
          "text": [
            "Model best params: {'multinomialnb__alpha': 0.18300796090738336}\n",
            "Train accuracy: 0.9073+/- 0.0011\n",
            "Valid accuracy: 0.7958+/- 0.0089\n"
          ]
        },
        {
          "data": {
            "image/png": "[encoded data removed]",
            "text/plain": [
              "<Figure size 432x288 with 1 Axes>"
            ]
          },
          "metadata": {},
          "output_type": "display_data"
        },
        {
          "data": {
            "image/png": "[encoded data removed]",
            "text/plain": [
              "<Figure size 432x288 with 1 Axes>"
            ]
          },
          "metadata": {},
          "output_type": "display_data"
        },
        {
          "name": "stdout",
          "output_type": "stream",
          "text": [
            "CPU times: user 20.2 s, sys: 1.44 s, total: 21.6 s\n",
            "Wall time: 53.3 s\n"
          ]
        }
      ],
      "source": [
        "%%time\n",
        "gender_model, cv_gender_df = train(dataframe=train_df, \n",
        "    target_name='gender')"
      ]
    },
    {
      "cell_type": "code",
      "execution_count": null,
      "id": "8ef009d9-5f7e-4248-b3b2-f81cc2131d4e",
      "metadata": {
        "id": "8ef009d9-5f7e-4248-b3b2-f81cc2131d4e"
      },
      "outputs": [],
      "source": [
        "from sklearn.metrics import confusion_matrix, classification_report\n",
        "\n",
        "def evaluate(model, dataframe, target_name):\n",
        "    x, y = dataframe.drop(columns=[target_name]), dataframe[target_name]\n",
        "    print(f\"Test accuracy: {model.score(x, y):.4f}\")\n",
        "    y_pred = model.predict(x)\n",
        "    cm = confusion_matrix(y, y_pred)\n",
        "    cm_df = pd.DataFrame(cm/np.sum(cm, axis=1), \n",
        "        index=np.unique(y), columns=np.unique(y))\n",
        "    \n",
        "    sns.heatmap(data=cm_df, annot=True, cmap='Reds', fmt='.1%', square=True)\n",
        "    plt.title(\"Confusion matrix(%) for test data\")\n",
        "    plt.xlabel(\"Predicted\")\n",
        "    plt.ylabel(\"True\")\n",
        "    plt.show()\n",
        "    \n",
        "    cls_report = classification_report(y, y_pred, digits=4)\n",
        "    print(cls_report)"
      ]
    },
    {
      "cell_type": "code",
      "execution_count": null,
      "id": "1b24440d-47b5-41b5-ad2d-c22b1996985c",
      "metadata": {
        "id": "1b24440d-47b5-41b5-ad2d-c22b1996985c",
        "outputId": "e67b77cf-1e40-4962-8aaa-449ea4880e9c"
      },
      "outputs": [
        {
          "name": "stdout",
          "output_type": "stream",
          "text": [
            "Test accuracy: 0.7893\n"
          ]
        },
        {
          "data": {
            "image/png": "[encoded data removed]",
            "text/plain": [
              "<Figure size 432x288 with 2 Axes>"
            ]
          },
          "metadata": {},
          "output_type": "display_data"
        },
        {
          "name": "stdout",
          "output_type": "stream",
          "text": [
            "              precision    recall  f1-score   support\n",
            "\n",
            "      Female     0.7853    0.9040    0.8404      1416\n",
            "        Male     0.8015    0.6144    0.6956       861\n",
            "      Others     0.7143    0.4412    0.5455        34\n",
            "\n",
            "    accuracy                         0.7893      2311\n",
            "   macro avg     0.7670    0.6532    0.6938      2311\n",
            "weighted avg     0.7903    0.7893    0.7821      2311\n",
            "\n"
          ]
        }
      ],
      "source": [
        "evaluate(model=gender_model, \n",
        "    dataframe=test_df, target_name='gender')"
      ]
    },
    {
      "cell_type": "code",
      "execution_count": null,
      "id": "7fe886c2-ade7-432c-bad9-9386530c4a42",
      "metadata": {
        "id": "7fe886c2-ade7-432c-bad9-9386530c4a42",
        "outputId": "ee76b262-5ee9-499c-ce0e-8b756dd70f05"
      },
      "outputs": [
        {
          "name": "stdout",
          "output_type": "stream",
          "text": [
            "Model best params: {'multinomialnb__alpha': 0.16746839856214968}\n",
            "Train accuracy: 0.9849+/- 0.0002\n",
            "Valid accuracy: 0.8998+/- 0.0032\n"
          ]
        },
        {
          "data": {
            "image/png": "[encoded data removed]",
            "text/plain": [
              "<Figure size 432x288 with 1 Axes>"
            ]
          },
          "metadata": {},
          "output_type": "display_data"
        },
        {
          "data": {
            "image/png": "[encoded data removed]",
            "text/plain": [
              "<Figure size 432x288 with 1 Axes>"
            ]
          },
          "metadata": {},
          "output_type": "display_data"
        },
        {
          "name": "stdout",
          "output_type": "stream",
          "text": [
            "CPU times: user 20.2 s, sys: 722 ms, total: 20.9 s\n",
            "Wall time: 53 s\n"
          ]
        }
      ],
      "source": [
        "%%time\n",
        "race_model, cv_race_df = train(dataframe=train_df, \n",
        "    target_name='race')"
      ]
    },
    {
      "cell_type": "code",
      "execution_count": null,
      "id": "a3e1ee90-b9f9-487f-b7aa-1361fbd277aa",
      "metadata": {
        "id": "a3e1ee90-b9f9-487f-b7aa-1361fbd277aa",
        "outputId": "e8d87575-64b2-471a-b4f0-039fc1cc17c3"
      },
      "outputs": [
        {
          "name": "stdout",
          "output_type": "stream",
          "text": [
            "Test accuracy: 0.8987\n"
          ]
        },
        {
          "data": {
            "image/png": "[encoded data removed]",
            "text/plain": [
              "<Figure size 432x288 with 2 Axes>"
            ]
          },
          "metadata": {},
          "output_type": "display_data"
        },
        {
          "name": "stdout",
          "output_type": "stream",
          "text": [
            "              precision    recall  f1-score   support\n",
            "\n",
            "     Chinese     0.8577    0.9893    0.9188      1212\n",
            "      Indian     0.9167    0.3548    0.5116        93\n",
            "       Malay     0.9855    0.9156    0.9493       889\n",
            "      Others     0.6078    0.2650    0.3690       117\n",
            "\n",
            "    accuracy                         0.8987      2311\n",
            "   macro avg     0.8419    0.6312    0.6872      2311\n",
            "weighted avg     0.8966    0.8987    0.8863      2311\n",
            "\n"
          ]
        }
      ],
      "source": [
        "evaluate(model=race_model, \n",
        "    dataframe=test_df, target_name='race')"
      ]
    },
    {
      "cell_type": "code",
      "execution_count": null,
      "id": "d4b18d07-0be3-4570-9544-07c1e879dbb6",
      "metadata": {
        "tags": [],
        "id": "d4b18d07-0be3-4570-9544-07c1e879dbb6",
        "outputId": "3c4263ce-bb3f-4412-f2ad-c281626dc0ce"
      },
      "outputs": [
        {
          "data": {
            "text/html": [
              "<div>\n",
              "<style scoped>\n",
              "    .dataframe tbody tr th:only-of-type {\n",
              "        vertical-align: middle;\n",
              "    }\n",
              "\n",
              "    .dataframe tbody tr th {\n",
              "        vertical-align: top;\n",
              "    }\n",
              "\n",
              "    .dataframe thead th {\n",
              "        text-align: right;\n",
              "    }\n",
              "</style>\n",
              "<table border=\"1\" class=\"dataframe\">\n",
              "  <thead>\n",
              "    <tr style=\"text-align: right;\">\n",
              "      <th></th>\n",
              "      <th>customer_name</th>\n",
              "      <th>gender</th>\n",
              "      <th>gender_probability</th>\n",
              "      <th>race</th>\n",
              "      <th>race_probability</th>\n",
              "    </tr>\n",
              "  </thead>\n",
              "  <tbody>\n",
              "    <tr>\n",
              "      <th>0</th>\n",
              "      <td>mei</td>\n",
              "      <td>Female</td>\n",
              "      <td>0.90</td>\n",
              "      <td>Chinese</td>\n",
              "      <td>1.00</td>\n",
              "    </tr>\n",
              "    <tr>\n",
              "      <th>1</th>\n",
              "      <td>kelvin</td>\n",
              "      <td>Male</td>\n",
              "      <td>0.92</td>\n",
              "      <td>Chinese</td>\n",
              "      <td>0.93</td>\n",
              "    </tr>\n",
              "    <tr>\n",
              "      <th>2</th>\n",
              "      <td>ahmad</td>\n",
              "      <td>Male</td>\n",
              "      <td>0.62</td>\n",
              "      <td>Malay</td>\n",
              "      <td>0.99</td>\n",
              "    </tr>\n",
              "    <tr>\n",
              "      <th>3</th>\n",
              "      <td>siti</td>\n",
              "      <td>Female</td>\n",
              "      <td>0.99</td>\n",
              "      <td>Malay</td>\n",
              "      <td>1.00</td>\n",
              "    </tr>\n",
              "    <tr>\n",
              "      <th>4</th>\n",
              "      <td>kumar</td>\n",
              "      <td>Male</td>\n",
              "      <td>0.98</td>\n",
              "      <td>Indian</td>\n",
              "      <td>0.96</td>\n",
              "    </tr>\n",
              "    <tr>\n",
              "      <th>5</th>\n",
              "      <td>ogawa sdn. bhd.</td>\n",
              "      <td>Others</td>\n",
              "      <td>0.98</td>\n",
              "      <td>Others</td>\n",
              "      <td>0.98</td>\n",
              "    </tr>\n",
              "  </tbody>\n",
              "</table>\n",
              "</div>"
            ],
            "text/plain": [
              "     customer_name  gender  gender_probability     race  race_probability\n",
              "0              mei  Female                0.90  Chinese              1.00\n",
              "1           kelvin    Male                0.92  Chinese              0.93\n",
              "2            ahmad    Male                0.62    Malay              0.99\n",
              "3             siti  Female                0.99    Malay              1.00\n",
              "4            kumar    Male                0.98   Indian              0.96\n",
              "5  ogawa sdn. bhd.  Others                0.98   Others              0.98"
            ]
          },
          "execution_count": 51,
          "metadata": {},
          "output_type": "execute_result"
        }
      ],
      "source": [
        "names = ['mei', 'kelvin', 'ahmad', 'siti', 'kumar', 'ogawa sdn. bhd.']\n",
        "df = pd.DataFrame({'customer_name': names})\n",
        "\n",
        "gender = gender_model.predict(df)\n",
        "race = race_model.predict(df)\n",
        "\n",
        "round_fn = lambda x: np.round(x, 2)\n",
        "gender_proba = round_fn(np.max(gender_model.predict_proba(df), axis=1))\n",
        "race_proba = round_fn(np.max(race_model.predict_proba(df), axis=1))\n",
        "\n",
        "pd.DataFrame({\n",
        "    'customer_name': names,\n",
        "    'gender': gender,\n",
        "    'gender_probability': gender_proba,\n",
        "    'race': race,\n",
        "    'race_probability': race_proba})"
      ]
    }
  ],
  "metadata": {
    "kernelspec": {
      "display_name": "Python 3 (ipykernel)",
      "language": "python",
      "name": "python3"
    },
    "language_info": {
      "codemirror_mode": {
        "name": "ipython",
        "version": 3
      },
      "file_extension": ".py",
      "mimetype": "text/x-python",
      "name": "python",
      "nbconvert_exporter": "python",
      "pygments_lexer": "ipython3",
      "version": "3.8.13"
    },
    "colab": {
      "name": "sklearn.ipynb",
      "provenance": [],
      "include_colab_link": true
    }
  },
  "nbformat": 4,
  "nbformat_minor": 5
}